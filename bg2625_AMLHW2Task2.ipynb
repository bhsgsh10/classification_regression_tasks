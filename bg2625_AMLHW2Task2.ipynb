{
 "cells": [
  {
   "cell_type": "markdown",
   "metadata": {
    "colab_type": "text",
    "id": "x4yu4RM-c2eG"
   },
   "source": [
    "# Applied Machine Learning, HW2\n",
    "## Bhaskar Ghosh, bg2625\n",
    "## Task 2"
   ]
  },
  {
   "cell_type": "code",
   "execution_count": 0,
   "metadata": {
    "colab": {},
    "colab_type": "code",
    "id": "-1Y4168gdEU3"
   },
   "outputs": [],
   "source": [
    "import csv\n",
    "from sklearn.datasets import fetch_openml\n",
    "import matplotlib.pyplot as plt\n",
    "import pandas as pd\n",
    "import numpy as np\n",
    "from sklearn.preprocessing import StandardScaler, RobustScaler, OneHotEncoder, OrdinalEncoder, LabelEncoder\n",
    "from sklearn.model_selection import train_test_split, KFold, StratifiedKFold, RepeatedKFold, RepeatedStratifiedKFold, LeaveOneOut, cross_val_score, GridSearchCV, ParameterGrid\n",
    "from sklearn.linear_model import Ridge, LogisticRegression, LinearRegression, Lasso, ElasticNet\n",
    "from sklearn.metrics import confusion_matrix\n",
    "# import category_encoders as ce\n",
    "import seaborn as sns\n",
    "from sklearn.compose import make_column_transformer\n",
    "from sklearn.pipeline import make_pipeline\n",
    "from sklearn.svm import SVC, LinearSVC\n",
    "from sklearn.neighbors import KNeighborsClassifier, KNeighborsRegressor\n",
    "from sklearn.pipeline import Pipeline\n",
    "from sklearn.impute import SimpleImputer\n",
    "import seaborn as sns\n",
    "import warnings"
   ]
  },
  {
   "cell_type": "code",
   "execution_count": 0,
   "metadata": {
    "colab": {},
    "colab_type": "code",
    "id": "nhKZX_pJdb84"
   },
   "outputs": [],
   "source": [
    "# read the CSV file into a dataframe\n",
    "housing_data = pd.read_csv('/content/gdrive/My Drive/Colab Notebooks/AMLData/data.csv')"
   ]
  },
  {
   "cell_type": "code",
   "execution_count": 4,
   "metadata": {
    "colab": {
     "base_uri": "https://localhost:8080/",
     "height": 401
    },
    "colab_type": "code",
    "id": "Sfwo61QfdxaT",
    "outputId": "18e7c52a-49ed-4530-ed30-80deba5a58bd"
   },
   "outputs": [
    {
     "data": {
      "text/html": [
       "<div>\n",
       "<style scoped>\n",
       "    .dataframe tbody tr th:only-of-type {\n",
       "        vertical-align: middle;\n",
       "    }\n",
       "\n",
       "    .dataframe tbody tr th {\n",
       "        vertical-align: top;\n",
       "    }\n",
       "\n",
       "    .dataframe thead th {\n",
       "        text-align: right;\n",
       "    }\n",
       "</style>\n",
       "<table border=\"1\" class=\"dataframe\">\n",
       "  <thead>\n",
       "    <tr style=\"text-align: right;\">\n",
       "      <th></th>\n",
       "      <th>date</th>\n",
       "      <th>price</th>\n",
       "      <th>bedrooms</th>\n",
       "      <th>bathrooms</th>\n",
       "      <th>sqft_living</th>\n",
       "      <th>sqft_lot</th>\n",
       "      <th>floors</th>\n",
       "      <th>waterfront</th>\n",
       "      <th>view</th>\n",
       "      <th>condition</th>\n",
       "      <th>sqft_above</th>\n",
       "      <th>sqft_basement</th>\n",
       "      <th>yr_built</th>\n",
       "      <th>yr_renovated</th>\n",
       "      <th>street</th>\n",
       "      <th>city</th>\n",
       "      <th>statezip</th>\n",
       "      <th>country</th>\n",
       "    </tr>\n",
       "  </thead>\n",
       "  <tbody>\n",
       "    <tr>\n",
       "      <th>0</th>\n",
       "      <td>2014-05-02 00:00:00</td>\n",
       "      <td>313000.0</td>\n",
       "      <td>3.0</td>\n",
       "      <td>1.50</td>\n",
       "      <td>1340</td>\n",
       "      <td>7912</td>\n",
       "      <td>1.5</td>\n",
       "      <td>0</td>\n",
       "      <td>0</td>\n",
       "      <td>3</td>\n",
       "      <td>1340</td>\n",
       "      <td>0</td>\n",
       "      <td>1955</td>\n",
       "      <td>2005</td>\n",
       "      <td>18810 Densmore Ave N</td>\n",
       "      <td>Shoreline</td>\n",
       "      <td>WA 98133</td>\n",
       "      <td>USA</td>\n",
       "    </tr>\n",
       "    <tr>\n",
       "      <th>1</th>\n",
       "      <td>2014-05-02 00:00:00</td>\n",
       "      <td>2384000.0</td>\n",
       "      <td>5.0</td>\n",
       "      <td>2.50</td>\n",
       "      <td>3650</td>\n",
       "      <td>9050</td>\n",
       "      <td>2.0</td>\n",
       "      <td>0</td>\n",
       "      <td>4</td>\n",
       "      <td>5</td>\n",
       "      <td>3370</td>\n",
       "      <td>280</td>\n",
       "      <td>1921</td>\n",
       "      <td>0</td>\n",
       "      <td>709 W Blaine St</td>\n",
       "      <td>Seattle</td>\n",
       "      <td>WA 98119</td>\n",
       "      <td>USA</td>\n",
       "    </tr>\n",
       "    <tr>\n",
       "      <th>2</th>\n",
       "      <td>2014-05-02 00:00:00</td>\n",
       "      <td>342000.0</td>\n",
       "      <td>3.0</td>\n",
       "      <td>2.00</td>\n",
       "      <td>1930</td>\n",
       "      <td>11947</td>\n",
       "      <td>1.0</td>\n",
       "      <td>0</td>\n",
       "      <td>0</td>\n",
       "      <td>4</td>\n",
       "      <td>1930</td>\n",
       "      <td>0</td>\n",
       "      <td>1966</td>\n",
       "      <td>0</td>\n",
       "      <td>26206-26214 143rd Ave SE</td>\n",
       "      <td>Kent</td>\n",
       "      <td>WA 98042</td>\n",
       "      <td>USA</td>\n",
       "    </tr>\n",
       "    <tr>\n",
       "      <th>3</th>\n",
       "      <td>2014-05-02 00:00:00</td>\n",
       "      <td>420000.0</td>\n",
       "      <td>3.0</td>\n",
       "      <td>2.25</td>\n",
       "      <td>2000</td>\n",
       "      <td>8030</td>\n",
       "      <td>1.0</td>\n",
       "      <td>0</td>\n",
       "      <td>0</td>\n",
       "      <td>4</td>\n",
       "      <td>1000</td>\n",
       "      <td>1000</td>\n",
       "      <td>1963</td>\n",
       "      <td>0</td>\n",
       "      <td>857 170th Pl NE</td>\n",
       "      <td>Bellevue</td>\n",
       "      <td>WA 98008</td>\n",
       "      <td>USA</td>\n",
       "    </tr>\n",
       "    <tr>\n",
       "      <th>4</th>\n",
       "      <td>2014-05-02 00:00:00</td>\n",
       "      <td>550000.0</td>\n",
       "      <td>4.0</td>\n",
       "      <td>2.50</td>\n",
       "      <td>1940</td>\n",
       "      <td>10500</td>\n",
       "      <td>1.0</td>\n",
       "      <td>0</td>\n",
       "      <td>0</td>\n",
       "      <td>4</td>\n",
       "      <td>1140</td>\n",
       "      <td>800</td>\n",
       "      <td>1976</td>\n",
       "      <td>1992</td>\n",
       "      <td>9105 170th Ave NE</td>\n",
       "      <td>Redmond</td>\n",
       "      <td>WA 98052</td>\n",
       "      <td>USA</td>\n",
       "    </tr>\n",
       "  </tbody>\n",
       "</table>\n",
       "</div>"
      ],
      "text/plain": [
       "                  date      price  bedrooms  ...       city  statezip  country\n",
       "0  2014-05-02 00:00:00   313000.0       3.0  ...  Shoreline  WA 98133      USA\n",
       "1  2014-05-02 00:00:00  2384000.0       5.0  ...    Seattle  WA 98119      USA\n",
       "2  2014-05-02 00:00:00   342000.0       3.0  ...       Kent  WA 98042      USA\n",
       "3  2014-05-02 00:00:00   420000.0       3.0  ...   Bellevue  WA 98008      USA\n",
       "4  2014-05-02 00:00:00   550000.0       4.0  ...    Redmond  WA 98052      USA\n",
       "\n",
       "[5 rows x 18 columns]"
      ]
     },
     "execution_count": 4,
     "metadata": {
      "tags": []
     },
     "output_type": "execute_result"
    }
   ],
   "source": [
    "housing_data.head()"
   ]
  },
  {
   "cell_type": "markdown",
   "metadata": {
    "colab_type": "text",
    "id": "pjeLCg6ywsaD"
   },
   "source": [
    "## 2.1\n",
    "Determine which features are continuous vs categorical. Drop rows without a valid sales\n",
    "price."
   ]
  },
  {
   "cell_type": "markdown",
   "metadata": {
    "colab_type": "text",
    "id": "fWFGehH9xCF7"
   },
   "source": [
    "Dropping rows that don't have a valid sales price. If we observe the data there are some rows with price=0.0. Removing those rows from the dataframe."
   ]
  },
  {
   "cell_type": "code",
   "execution_count": 0,
   "metadata": {
    "colab": {},
    "colab_type": "code",
    "id": "lvJ7myBFxQz4"
   },
   "outputs": [],
   "source": [
    "housing_data.drop(housing_data[housing_data.price == 0.0].index, inplace=True)"
   ]
  },
  {
   "cell_type": "code",
   "execution_count": 6,
   "metadata": {
    "colab": {
     "base_uri": "https://localhost:8080/",
     "height": 401
    },
    "colab_type": "code",
    "id": "Kipj_nPQ9lk5",
    "outputId": "a78e159f-329b-4a68-b0a8-62bea7f77adf"
   },
   "outputs": [
    {
     "data": {
      "text/html": [
       "<div>\n",
       "<style scoped>\n",
       "    .dataframe tbody tr th:only-of-type {\n",
       "        vertical-align: middle;\n",
       "    }\n",
       "\n",
       "    .dataframe tbody tr th {\n",
       "        vertical-align: top;\n",
       "    }\n",
       "\n",
       "    .dataframe thead th {\n",
       "        text-align: right;\n",
       "    }\n",
       "</style>\n",
       "<table border=\"1\" class=\"dataframe\">\n",
       "  <thead>\n",
       "    <tr style=\"text-align: right;\">\n",
       "      <th></th>\n",
       "      <th>date</th>\n",
       "      <th>price</th>\n",
       "      <th>bedrooms</th>\n",
       "      <th>bathrooms</th>\n",
       "      <th>sqft_living</th>\n",
       "      <th>sqft_lot</th>\n",
       "      <th>floors</th>\n",
       "      <th>waterfront</th>\n",
       "      <th>view</th>\n",
       "      <th>condition</th>\n",
       "      <th>sqft_above</th>\n",
       "      <th>sqft_basement</th>\n",
       "      <th>yr_built</th>\n",
       "      <th>yr_renovated</th>\n",
       "      <th>street</th>\n",
       "      <th>city</th>\n",
       "      <th>statezip</th>\n",
       "      <th>country</th>\n",
       "    </tr>\n",
       "  </thead>\n",
       "  <tbody>\n",
       "    <tr>\n",
       "      <th>0</th>\n",
       "      <td>2014-05-02 00:00:00</td>\n",
       "      <td>313000.0</td>\n",
       "      <td>3.0</td>\n",
       "      <td>1.50</td>\n",
       "      <td>1340</td>\n",
       "      <td>7912</td>\n",
       "      <td>1.5</td>\n",
       "      <td>0</td>\n",
       "      <td>0</td>\n",
       "      <td>3</td>\n",
       "      <td>1340</td>\n",
       "      <td>0</td>\n",
       "      <td>1955</td>\n",
       "      <td>2005</td>\n",
       "      <td>18810 Densmore Ave N</td>\n",
       "      <td>Shoreline</td>\n",
       "      <td>WA 98133</td>\n",
       "      <td>USA</td>\n",
       "    </tr>\n",
       "    <tr>\n",
       "      <th>1</th>\n",
       "      <td>2014-05-02 00:00:00</td>\n",
       "      <td>2384000.0</td>\n",
       "      <td>5.0</td>\n",
       "      <td>2.50</td>\n",
       "      <td>3650</td>\n",
       "      <td>9050</td>\n",
       "      <td>2.0</td>\n",
       "      <td>0</td>\n",
       "      <td>4</td>\n",
       "      <td>5</td>\n",
       "      <td>3370</td>\n",
       "      <td>280</td>\n",
       "      <td>1921</td>\n",
       "      <td>0</td>\n",
       "      <td>709 W Blaine St</td>\n",
       "      <td>Seattle</td>\n",
       "      <td>WA 98119</td>\n",
       "      <td>USA</td>\n",
       "    </tr>\n",
       "    <tr>\n",
       "      <th>2</th>\n",
       "      <td>2014-05-02 00:00:00</td>\n",
       "      <td>342000.0</td>\n",
       "      <td>3.0</td>\n",
       "      <td>2.00</td>\n",
       "      <td>1930</td>\n",
       "      <td>11947</td>\n",
       "      <td>1.0</td>\n",
       "      <td>0</td>\n",
       "      <td>0</td>\n",
       "      <td>4</td>\n",
       "      <td>1930</td>\n",
       "      <td>0</td>\n",
       "      <td>1966</td>\n",
       "      <td>0</td>\n",
       "      <td>26206-26214 143rd Ave SE</td>\n",
       "      <td>Kent</td>\n",
       "      <td>WA 98042</td>\n",
       "      <td>USA</td>\n",
       "    </tr>\n",
       "    <tr>\n",
       "      <th>3</th>\n",
       "      <td>2014-05-02 00:00:00</td>\n",
       "      <td>420000.0</td>\n",
       "      <td>3.0</td>\n",
       "      <td>2.25</td>\n",
       "      <td>2000</td>\n",
       "      <td>8030</td>\n",
       "      <td>1.0</td>\n",
       "      <td>0</td>\n",
       "      <td>0</td>\n",
       "      <td>4</td>\n",
       "      <td>1000</td>\n",
       "      <td>1000</td>\n",
       "      <td>1963</td>\n",
       "      <td>0</td>\n",
       "      <td>857 170th Pl NE</td>\n",
       "      <td>Bellevue</td>\n",
       "      <td>WA 98008</td>\n",
       "      <td>USA</td>\n",
       "    </tr>\n",
       "    <tr>\n",
       "      <th>4</th>\n",
       "      <td>2014-05-02 00:00:00</td>\n",
       "      <td>550000.0</td>\n",
       "      <td>4.0</td>\n",
       "      <td>2.50</td>\n",
       "      <td>1940</td>\n",
       "      <td>10500</td>\n",
       "      <td>1.0</td>\n",
       "      <td>0</td>\n",
       "      <td>0</td>\n",
       "      <td>4</td>\n",
       "      <td>1140</td>\n",
       "      <td>800</td>\n",
       "      <td>1976</td>\n",
       "      <td>1992</td>\n",
       "      <td>9105 170th Ave NE</td>\n",
       "      <td>Redmond</td>\n",
       "      <td>WA 98052</td>\n",
       "      <td>USA</td>\n",
       "    </tr>\n",
       "  </tbody>\n",
       "</table>\n",
       "</div>"
      ],
      "text/plain": [
       "                  date      price  bedrooms  ...       city  statezip  country\n",
       "0  2014-05-02 00:00:00   313000.0       3.0  ...  Shoreline  WA 98133      USA\n",
       "1  2014-05-02 00:00:00  2384000.0       5.0  ...    Seattle  WA 98119      USA\n",
       "2  2014-05-02 00:00:00   342000.0       3.0  ...       Kent  WA 98042      USA\n",
       "3  2014-05-02 00:00:00   420000.0       3.0  ...   Bellevue  WA 98008      USA\n",
       "4  2014-05-02 00:00:00   550000.0       4.0  ...    Redmond  WA 98052      USA\n",
       "\n",
       "[5 rows x 18 columns]"
      ]
     },
     "execution_count": 6,
     "metadata": {
      "tags": []
     },
     "output_type": "execute_result"
    }
   ],
   "source": [
    "housing_data.head(5)"
   ]
  },
  {
   "cell_type": "markdown",
   "metadata": {
    "colab_type": "text",
    "id": "skjZ7SfgxzMB"
   },
   "source": [
    "The categorical features are given below:\n",
    "* Street\n",
    "* City\n",
    "* Statezip\n",
    "* Country\n",
    "* Waterfront (since it can only be 0 or 1)\n",
    "\n",
    "Continuous features are:\n",
    "* Price\n",
    "* Bedrooms\n",
    "* Bathrooms\n",
    "* Sqft_living\n",
    "* Sqft_lot\n",
    "* Floors\n",
    "* View\n",
    "* Condition\n",
    "* Sqft_above\n",
    "* Sqft_basement\n",
    "* yr_built\n",
    "* yr_renovated\n"
   ]
  },
  {
   "cell_type": "markdown",
   "metadata": {
    "colab_type": "text",
    "id": "acuDu9912pAR"
   },
   "source": [
    "## 2.2\n",
    "Visualize the univariate distribution of each continuous feature, and the distribution of the\n",
    "target. Do you notice anything? Is there something that might require special treatment?"
   ]
  },
  {
   "cell_type": "code",
   "execution_count": 0,
   "metadata": {
    "colab": {},
    "colab_type": "code",
    "id": "Fb1ZJWRTx3fU"
   },
   "outputs": [],
   "source": [
    "prices = housing_data['price']\n",
    "bedrooms = housing_data['bedrooms']\n",
    "bathrooms = housing_data['bathrooms']\n",
    "sqft_living = housing_data['sqft_living']\n",
    "sqft_lot = housing_data['sqft_lot']\n",
    "floors = housing_data['floors']\n",
    "views = housing_data['view']\n",
    "conditions = housing_data['condition']\n",
    "sqft_above = housing_data['sqft_above']\n",
    "sqft_basement = housing_data.sqft_basement\n",
    "year_built = housing_data.yr_built\n",
    "year_renovated = housing_data.yr_renovated"
   ]
  },
  {
   "cell_type": "code",
   "execution_count": 9,
   "metadata": {
    "colab": {
     "base_uri": "https://localhost:8080/",
     "height": 1000
    },
    "colab_type": "code",
    "id": "4v0-nqzu5fpx",
    "outputId": "6b72ef57-13f3-481e-a249-db72f31d7a26"
   },
   "outputs": [
    {
     "data": {
      "image/png": "[encoded data removed]",
      "text/plain": [
       "<Figure size 1080x2880 with 12 Axes>"
      ]
     },
     "metadata": {
      "tags": []
     },
     "output_type": "display_data"
    }
   ],
   "source": [
    "plt.figure(figsize=(15, 40))\n",
    "ax1 = plt.subplot(6,2,1)\n",
    "ax1.hist(prices, bins=10)\n",
    "ax1.set_xlabel('Prices')\n",
    "\n",
    "ax2 = plt.subplot(6,2,2)\n",
    "ax2.hist(bedrooms, bins=5)\n",
    "ax2.set_xlabel('Bedrooms')\n",
    "\n",
    "ax3 = plt.subplot(6,2,3)\n",
    "ax3.hist(bathrooms, bins=5)\n",
    "ax3.set_xlabel('Bathrooms')\n",
    "\n",
    "ax4 = plt.subplot(6,2,4)\n",
    "ax4.hist(sqft_living, bins=5)\n",
    "ax4.set_xlabel('Sqft living')\n",
    "\n",
    "ax5 = plt.subplot(6,2,5)\n",
    "ax5.hist(sqft_lot, bins=10)\n",
    "ax5.set_xlabel('Sqft lot')\n",
    "\n",
    "ax6 = plt.subplot(6,2,6)\n",
    "ax6.hist(floors, bins=5)\n",
    "ax6.set_xlabel('Floors')\n",
    "\n",
    "ax7 = plt.subplot(6,2,7)\n",
    "ax7.hist(views, bins=5)\n",
    "ax7.set_xlabel('Views')\n",
    "\n",
    "ax8 = plt.subplot(6,2,8)\n",
    "ax8.hist(conditions, bins=5)\n",
    "ax8.set_xlabel('Condition')\n",
    "\n",
    "ax9 = plt.subplot(6,2,9)\n",
    "ax9.hist(bathrooms, bins=5)\n",
    "ax9.set_xlabel('Sqft above')\n",
    "\n",
    "ax10 = plt.subplot(6,2,10)\n",
    "ax10.hist(sqft_basement, bins=5)\n",
    "ax10.set_xlabel('Sqft basement')\n",
    "\n",
    "ax11 = plt.subplot(6,2,11)\n",
    "ax11.hist(year_built, bins=5)\n",
    "ax11.set_xlabel('Year built')\n",
    "\n",
    "ax12 = plt.subplot(6,2,12)\n",
    "ax12.hist(year_renovated, bins=50)\n",
    "ax12.set_xlabel('Year renovated')\n",
    "\n",
    "plt.show()"
   ]
  },
  {
   "cell_type": "markdown",
   "metadata": {
    "colab_type": "text",
    "id": "tvY4kROV8-ba"
   },
   "source": [
    "We need to treat those rows which have 0 values. For example, we have a lot of 0 values in the yr_renovated column. In fact, most of the values in that column are 0, which indicates that either year renovated is not available or the information was not recorded. If we redraw the histogram for yr_renovated after removing the 0 values, we get the following distribution:"
   ]
  },
  {
   "cell_type": "code",
   "execution_count": 10,
   "metadata": {
    "colab": {
     "base_uri": "https://localhost:8080/",
     "height": 496
    },
    "colab_type": "code",
    "id": "LkrX45qe-V8E",
    "outputId": "692a1452-b681-4b74-bc90-b77f7ca569ed"
   },
   "outputs": [
    {
     "data": {
      "image/png": "[encoded data removed]",
      "text/plain": [
       "<Figure size 576x576 with 1 Axes>"
      ]
     },
     "metadata": {
      "tags": []
     },
     "output_type": "display_data"
    }
   ],
   "source": [
    "year_renovated = housing_data.drop(housing_data[housing_data.yr_renovated == 0].index, inplace=False).yr_renovated\n",
    "plt.figure(figsize=(8, 8))\n",
    "plt.hist(year_renovated, bins=5)\n",
    "plt.xlabel('Year renovated')\n",
    "plt.show()"
   ]
  },
  {
   "cell_type": "markdown",
   "metadata": {
    "colab_type": "text",
    "id": "FBHRu_ijAUwl"
   },
   "source": [
    "The same goes for sqft_basement. Many of the values are 0 in that column. \n",
    "The following figure shows the distribution of sqft_basement for non-zero values."
   ]
  },
  {
   "cell_type": "markdown",
   "metadata": {
    "colab_type": "text",
    "id": "1QpNZ2kCOB26"
   },
   "source": [
    "## 2.3\n",
    "Visualize the dependency of the target on each continuous feature (2d scatter plot).\n",
    "The target feature is price. So we shall be plotting other continuous features and observing their influence on price. Scatter plots have been drawn using the original data (with only 0 prices removed)."
   ]
  },
  {
   "cell_type": "code",
   "execution_count": 0,
   "metadata": {
    "colab": {},
    "colab_type": "code",
    "id": "Q-jOwP5kQqqX"
   },
   "outputs": [],
   "source": [
    "bedrooms = housing_data['bedrooms']\n",
    "bathrooms = housing_data['bathrooms']\n",
    "sqft_living = housing_data['sqft_living']\n",
    "sqft_lot = housing_data['sqft_lot']\n",
    "floors = housing_data['floors']\n",
    "views = housing_data['view']\n",
    "conditions = housing_data['condition']\n",
    "sqft_above = housing_data['sqft_above']\n",
    "sqft_basement = housing_data.sqft_basement\n",
    "year_built = housing_data.yr_built\n",
    "year_renovated = housing_data.yr_renovated"
   ]
  },
  {
   "cell_type": "code",
   "execution_count": 12,
   "metadata": {
    "colab": {
     "base_uri": "https://localhost:8080/",
     "height": 1000
    },
    "colab_type": "code",
    "id": "HkWEy7MVOHAA",
    "outputId": "86037ffe-6161-4896-d826-0c2647e8b73a"
   },
   "outputs": [
    {
     "data": {
      "image/png": "[encoded data removed]",
      "text/plain": [
       "<Figure size 1080x2880 with 11 Axes>"
      ]
     },
     "metadata": {
      "tags": []
     },
     "output_type": "display_data"
    }
   ],
   "source": [
    "plt.figure(figsize=(15, 40))\n",
    "ax1 = plt.subplot(6,2,1)\n",
    "ax1.scatter(bedrooms, prices)\n",
    "ax1.set_yscale('log')\n",
    "ax1.set_xlabel('bedrooms')\n",
    "ax1.set_ylabel('price')\n",
    "\n",
    "ax2 = plt.subplot(6,2,2)\n",
    "ax2.scatter(bathrooms, prices)\n",
    "ax2.set_yscale('log')\n",
    "ax2.set_xlabel('bathrooms')\n",
    "ax2.set_ylabel('price')\n",
    "\n",
    "ax3 = plt.subplot(6,2,3)\n",
    "ax3.scatter(sqft_living, prices)\n",
    "ax3.set_yscale('log')\n",
    "ax3.set_xlabel('sqft_living')\n",
    "ax3.set_ylabel('price')\n",
    "\n",
    "ax4 = plt.subplot(6,2,4)\n",
    "ax4.scatter(sqft_lot, prices)\n",
    "ax4.set_yscale('log')\n",
    "ax4.set_xlabel('sqft_lot')\n",
    "ax4.set_ylabel('price')\n",
    "\n",
    "ax5 = plt.subplot(6,2,5)\n",
    "ax5.scatter(floors, prices)\n",
    "ax5.set_yscale('log')\n",
    "ax5.set_xlabel('floors')\n",
    "ax5.set_ylabel('price')\n",
    "\n",
    "ax6 = plt.subplot(6,2,6)\n",
    "ax6.scatter(views, prices)\n",
    "ax6.set_yscale('log')\n",
    "ax6.set_xlabel('view')\n",
    "ax6.set_ylabel('price')\n",
    "\n",
    "ax7 = plt.subplot(6,2,7)\n",
    "ax7.scatter(conditions, prices)\n",
    "ax7.set_yscale('log')\n",
    "ax7.set_xlabel('condition')\n",
    "ax7.set_ylabel('price')\n",
    "\n",
    "ax8 = plt.subplot(6,2,8)\n",
    "ax8.scatter(sqft_above, prices)\n",
    "ax8.set_yscale('log')\n",
    "ax8.set_xlabel('sqft_above')\n",
    "ax8.set_ylabel('price')\n",
    "\n",
    "ax9 = plt.subplot(6,2,9)\n",
    "ax9.scatter(sqft_basement, prices)\n",
    "ax9.set_yscale('log')\n",
    "ax9.set_xlabel('sqft_basement')\n",
    "ax9.set_ylabel('price')\n",
    "\n",
    "ax10 = plt.subplot(6,2,10)\n",
    "ax10.scatter(year_built, prices)\n",
    "ax10.set_yscale('log')\n",
    "ax10.set_xlabel('yr_built')\n",
    "ax10.set_ylabel('price')\n",
    "\n",
    "ax11 = plt.subplot(6,2,11)\n",
    "ax11.scatter(year_renovated, prices)\n",
    "ax11.set_yscale('log')\n",
    "ax11.set_xlabel('yr_renovated')\n",
    "ax11.set_ylabel('price')\n",
    "\n",
    "\n",
    "plt.show()"
   ]
  },
  {
   "cell_type": "markdown",
   "metadata": {
    "colab_type": "text",
    "id": "aTtpTd5iv_q4"
   },
   "source": [
    "## 2.4\n",
    "Split data in training and test set. Do not use the test-set unless for a final evaluation in 2.5.\n",
    "Use ColumnTransformer and pipeline to encode categorical variables (your choice of\n",
    "OneHotEncoder or another one from the categorical_encoder package, or both). Impute missing\n",
    "values using SimpleImputer. Evaluate Linear Regression (OLS), Ridge, Lasso and ElasticNet\n",
    "using cross-validation with the default parameters. Does scaling the data (within the pipeline)\n",
    "with StandardScaler help? Use the preprocessing that works best going forward.\n",
    "\n",
    "For the yr_renovated column, I looked up the .dat file and found none of the values for the column were originally 0. They were NaN instead. So converting the 0 values in yr_renovated to NaN so that we can apply the SimpleImputer,"
   ]
  },
  {
   "cell_type": "code",
   "execution_count": 0,
   "metadata": {
    "colab": {},
    "colab_type": "code",
    "id": "Pmo0nmUNwi3a"
   },
   "outputs": [],
   "source": [
    "housing_data['yr_renovated'] = housing_data['yr_renovated'].apply(lambda x: np.nan if x == 0 else x)"
   ]
  },
  {
   "cell_type": "code",
   "execution_count": 15,
   "metadata": {
    "colab": {
     "base_uri": "https://localhost:8080/",
     "height": 401
    },
    "colab_type": "code",
    "id": "9ZljNrutxuma",
    "outputId": "96d3e387-4c69-48c1-9ab0-c7bfb13821fb"
   },
   "outputs": [
    {
     "data": {
      "text/html": [
       "<div>\n",
       "<style scoped>\n",
       "    .dataframe tbody tr th:only-of-type {\n",
       "        vertical-align: middle;\n",
       "    }\n",
       "\n",
       "    .dataframe tbody tr th {\n",
       "        vertical-align: top;\n",
       "    }\n",
       "\n",
       "    .dataframe thead th {\n",
       "        text-align: right;\n",
       "    }\n",
       "</style>\n",
       "<table border=\"1\" class=\"dataframe\">\n",
       "  <thead>\n",
       "    <tr style=\"text-align: right;\">\n",
       "      <th></th>\n",
       "      <th>date</th>\n",
       "      <th>price</th>\n",
       "      <th>bedrooms</th>\n",
       "      <th>bathrooms</th>\n",
       "      <th>sqft_living</th>\n",
       "      <th>sqft_lot</th>\n",
       "      <th>floors</th>\n",
       "      <th>waterfront</th>\n",
       "      <th>view</th>\n",
       "      <th>condition</th>\n",
       "      <th>sqft_above</th>\n",
       "      <th>sqft_basement</th>\n",
       "      <th>yr_built</th>\n",
       "      <th>yr_renovated</th>\n",
       "      <th>street</th>\n",
       "      <th>city</th>\n",
       "      <th>statezip</th>\n",
       "      <th>country</th>\n",
       "    </tr>\n",
       "  </thead>\n",
       "  <tbody>\n",
       "    <tr>\n",
       "      <th>0</th>\n",
       "      <td>2014-05-02 00:00:00</td>\n",
       "      <td>313000.0</td>\n",
       "      <td>3.0</td>\n",
       "      <td>1.50</td>\n",
       "      <td>1340</td>\n",
       "      <td>7912</td>\n",
       "      <td>1.5</td>\n",
       "      <td>0</td>\n",
       "      <td>0</td>\n",
       "      <td>3</td>\n",
       "      <td>1340</td>\n",
       "      <td>0</td>\n",
       "      <td>1955</td>\n",
       "      <td>2005.0</td>\n",
       "      <td>18810 Densmore Ave N</td>\n",
       "      <td>Shoreline</td>\n",
       "      <td>WA 98133</td>\n",
       "      <td>USA</td>\n",
       "    </tr>\n",
       "    <tr>\n",
       "      <th>1</th>\n",
       "      <td>2014-05-02 00:00:00</td>\n",
       "      <td>2384000.0</td>\n",
       "      <td>5.0</td>\n",
       "      <td>2.50</td>\n",
       "      <td>3650</td>\n",
       "      <td>9050</td>\n",
       "      <td>2.0</td>\n",
       "      <td>0</td>\n",
       "      <td>4</td>\n",
       "      <td>5</td>\n",
       "      <td>3370</td>\n",
       "      <td>280</td>\n",
       "      <td>1921</td>\n",
       "      <td>NaN</td>\n",
       "      <td>709 W Blaine St</td>\n",
       "      <td>Seattle</td>\n",
       "      <td>WA 98119</td>\n",
       "      <td>USA</td>\n",
       "    </tr>\n",
       "    <tr>\n",
       "      <th>2</th>\n",
       "      <td>2014-05-02 00:00:00</td>\n",
       "      <td>342000.0</td>\n",
       "      <td>3.0</td>\n",
       "      <td>2.00</td>\n",
       "      <td>1930</td>\n",
       "      <td>11947</td>\n",
       "      <td>1.0</td>\n",
       "      <td>0</td>\n",
       "      <td>0</td>\n",
       "      <td>4</td>\n",
       "      <td>1930</td>\n",
       "      <td>0</td>\n",
       "      <td>1966</td>\n",
       "      <td>NaN</td>\n",
       "      <td>26206-26214 143rd Ave SE</td>\n",
       "      <td>Kent</td>\n",
       "      <td>WA 98042</td>\n",
       "      <td>USA</td>\n",
       "    </tr>\n",
       "    <tr>\n",
       "      <th>3</th>\n",
       "      <td>2014-05-02 00:00:00</td>\n",
       "      <td>420000.0</td>\n",
       "      <td>3.0</td>\n",
       "      <td>2.25</td>\n",
       "      <td>2000</td>\n",
       "      <td>8030</td>\n",
       "      <td>1.0</td>\n",
       "      <td>0</td>\n",
       "      <td>0</td>\n",
       "      <td>4</td>\n",
       "      <td>1000</td>\n",
       "      <td>1000</td>\n",
       "      <td>1963</td>\n",
       "      <td>NaN</td>\n",
       "      <td>857 170th Pl NE</td>\n",
       "      <td>Bellevue</td>\n",
       "      <td>WA 98008</td>\n",
       "      <td>USA</td>\n",
       "    </tr>\n",
       "    <tr>\n",
       "      <th>4</th>\n",
       "      <td>2014-05-02 00:00:00</td>\n",
       "      <td>550000.0</td>\n",
       "      <td>4.0</td>\n",
       "      <td>2.50</td>\n",
       "      <td>1940</td>\n",
       "      <td>10500</td>\n",
       "      <td>1.0</td>\n",
       "      <td>0</td>\n",
       "      <td>0</td>\n",
       "      <td>4</td>\n",
       "      <td>1140</td>\n",
       "      <td>800</td>\n",
       "      <td>1976</td>\n",
       "      <td>1992.0</td>\n",
       "      <td>9105 170th Ave NE</td>\n",
       "      <td>Redmond</td>\n",
       "      <td>WA 98052</td>\n",
       "      <td>USA</td>\n",
       "    </tr>\n",
       "  </tbody>\n",
       "</table>\n",
       "</div>"
      ],
      "text/plain": [
       "                  date      price  bedrooms  ...       city  statezip  country\n",
       "0  2014-05-02 00:00:00   313000.0       3.0  ...  Shoreline  WA 98133      USA\n",
       "1  2014-05-02 00:00:00  2384000.0       5.0  ...    Seattle  WA 98119      USA\n",
       "2  2014-05-02 00:00:00   342000.0       3.0  ...       Kent  WA 98042      USA\n",
       "3  2014-05-02 00:00:00   420000.0       3.0  ...   Bellevue  WA 98008      USA\n",
       "4  2014-05-02 00:00:00   550000.0       4.0  ...    Redmond  WA 98052      USA\n",
       "\n",
       "[5 rows x 18 columns]"
      ]
     },
     "execution_count": 15,
     "metadata": {
      "tags": []
     },
     "output_type": "execute_result"
    }
   ],
   "source": [
    "housing_data.head(5)"
   ]
  },
  {
   "cell_type": "code",
   "execution_count": 0,
   "metadata": {
    "colab": {},
    "colab_type": "code",
    "id": "1DlGu_G6zgxC"
   },
   "outputs": [],
   "source": [
    "housing_data[['waterfront']] = housing_data[['waterfront']].astype('str')\n",
    "categorical_features = ['city', 'statezip', 'country', 'waterfront']\n",
    "continuous_features = [feature for feature in list(housing_data.columns) if feature not in categorical_features and feature != 'date' and feature != 'price' and feature != 'street']\n",
    "all_features = continuous_features + categorical_features "
   ]
  },
  {
   "cell_type": "markdown",
   "metadata": {
    "colab_type": "text",
    "id": "ix9kkDHt1FMn"
   },
   "source": [
    "Creating a train test split"
   ]
  },
  {
   "cell_type": "code",
   "execution_count": 0,
   "metadata": {
    "colab": {},
    "colab_type": "code",
    "id": "8U8SWQP11B1W"
   },
   "outputs": [],
   "source": [
    "# Creating the data frame with all the continuous and categorical features except date and price\n",
    "price_df = housing_data.iloc[:,1]\n",
    "features_df = housing_data[all_features]\n",
    "X_trainval_pipe, X_test_pipe, y_trainval_pipe, y_test_pipe = train_test_split(features_df, price_df, test_size=0.2)"
   ]
  },
  {
   "cell_type": "code",
   "execution_count": 18,
   "metadata": {
    "colab": {
     "base_uri": "https://localhost:8080/",
     "height": 301
    },
    "colab_type": "code",
    "id": "Jdn38vjgHHMk",
    "outputId": "e46c9302-1b3e-44a1-db4d-267e3b7bc451"
   },
   "outputs": [
    {
     "data": {
      "text/plain": [
       "bedrooms         False\n",
       "bathrooms        False\n",
       "sqft_living      False\n",
       "sqft_lot         False\n",
       "floors           False\n",
       "view             False\n",
       "condition        False\n",
       "sqft_above       False\n",
       "sqft_basement    False\n",
       "yr_built         False\n",
       "yr_renovated     False\n",
       "city              True\n",
       "statezip          True\n",
       "country           True\n",
       "waterfront        True\n",
       "dtype: bool"
      ]
     },
     "execution_count": 18,
     "metadata": {
      "tags": []
     },
     "output_type": "execute_result"
    }
   ],
   "source": [
    "category_check = features_df.dtypes == object\n",
    "category_check"
   ]
  },
  {
   "cell_type": "markdown",
   "metadata": {
    "colab_type": "text",
    "id": "LWhRCKXuWTBA"
   },
   "source": [
    "### Linear Regression"
   ]
  },
  {
   "cell_type": "code",
   "execution_count": 19,
   "metadata": {
    "colab": {
     "base_uri": "https://localhost:8080/",
     "height": 34
    },
    "colab_type": "code",
    "id": "EVjdp0TF6jQY",
    "outputId": "9c118f71-44bb-4347-c739-fb28748c18fc"
   },
   "outputs": [
    {
     "name": "stdout",
     "output_type": "stream",
     "text": [
      "score: 0.264\n"
     ]
    }
   ],
   "source": [
    "preprocess = make_column_transformer(\n",
    "    (OneHotEncoder(handle_unknown='ignore'), category_check))\n",
    "model = make_pipeline(SimpleImputer(strategy='most_frequent'), preprocess, LinearRegression())\n",
    "model.fit(X_trainval_pipe, y_trainval_pipe)\n",
    "scores = cross_val_score(model, X_trainval_pipe, y_trainval_pipe, cv=5)\n",
    "print(\"score: {:.3f}\".format(np.mean(scores)))"
   ]
  },
  {
   "cell_type": "code",
   "execution_count": 20,
   "metadata": {
    "colab": {
     "base_uri": "https://localhost:8080/",
     "height": 34
    },
    "colab_type": "code",
    "id": "veVT7FuJVc-f",
    "outputId": "d27f9f85-3508-43d3-c714-e65ab83cad21"
   },
   "outputs": [
    {
     "name": "stdout",
     "output_type": "stream",
     "text": [
      "score: 0.489\n"
     ]
    }
   ],
   "source": [
    "preprocess = make_column_transformer(\n",
    "    (StandardScaler(), ~category_check),\n",
    "    (OneHotEncoder(handle_unknown='ignore'), category_check))\n",
    "model = make_pipeline(SimpleImputer(strategy='most_frequent'), preprocess, LinearRegression())\n",
    "model.fit(X_trainval_pipe, y_trainval_pipe)\n",
    "scores = cross_val_score(model, X_trainval_pipe, y_trainval_pipe, cv=5)\n",
    "print(\"score: {:.3f}\".format(np.mean(scores)))"
   ]
  },
  {
   "cell_type": "markdown",
   "metadata": {
    "colab_type": "text",
    "id": "BGpENAPg4oZe"
   },
   "source": [
    "Linear Regression is definitely better with scaling"
   ]
  },
  {
   "cell_type": "markdown",
   "metadata": {
    "colab_type": "text",
    "id": "dIcA4cAGWXL0"
   },
   "source": [
    "### Ridge regression"
   ]
  },
  {
   "cell_type": "code",
   "execution_count": 21,
   "metadata": {
    "colab": {
     "base_uri": "https://localhost:8080/",
     "height": 34
    },
    "colab_type": "code",
    "id": "U1HnYXSBWlMt",
    "outputId": "2be5f742-4057-4c6e-8112-63c88fabae31"
   },
   "outputs": [
    {
     "name": "stdout",
     "output_type": "stream",
     "text": [
      "score: 0.267\n"
     ]
    }
   ],
   "source": [
    "preprocess = make_column_transformer(\n",
    "    (OneHotEncoder(handle_unknown='ignore'), category_check))\n",
    "model_ridge = make_pipeline(SimpleImputer(strategy='most_frequent'), preprocess, Ridge())\n",
    "model_ridge.fit(X_trainval_pipe, y_trainval_pipe)\n",
    "scores = cross_val_score(model_ridge, X_trainval_pipe, y_trainval_pipe, cv=5)\n",
    "print(\"score: {:.3f}\".format(np.mean(scores)))"
   ]
  },
  {
   "cell_type": "code",
   "execution_count": 22,
   "metadata": {
    "colab": {
     "base_uri": "https://localhost:8080/",
     "height": 34
    },
    "colab_type": "code",
    "id": "kGz3q-0QW3uc",
    "outputId": "95f079fa-1126-495f-c550-008e2c4bdda3"
   },
   "outputs": [
    {
     "name": "stdout",
     "output_type": "stream",
     "text": [
      "score: 0.491\n"
     ]
    }
   ],
   "source": [
    "preprocess = make_column_transformer(\n",
    "    (StandardScaler(), ~category_check),\n",
    "    (OneHotEncoder(handle_unknown='ignore'), category_check))\n",
    "model_ridge = make_pipeline(SimpleImputer(strategy='most_frequent'), preprocess, Ridge())\n",
    "model_ridge.fit(X_trainval_pipe, y_trainval_pipe)\n",
    "scores = cross_val_score(model_ridge, X_trainval_pipe, y_trainval_pipe, cv=5)\n",
    "print(\"score: {:.3f}\".format(np.mean(scores)))"
   ]
  },
  {
   "cell_type": "markdown",
   "metadata": {
    "colab_type": "text",
    "id": "bfTNsby6W93J"
   },
   "source": [
    "### Lasso"
   ]
  },
  {
   "cell_type": "code",
   "execution_count": 23,
   "metadata": {
    "colab": {
     "base_uri": "https://localhost:8080/",
     "height": 34
    },
    "colab_type": "code",
    "id": "9rEIhVL7W_hM",
    "outputId": "d234f00a-dc46-4ab6-9765-7b61cbe8ac20"
   },
   "outputs": [
    {
     "name": "stdout",
     "output_type": "stream",
     "text": [
      "score: 0.258\n"
     ]
    }
   ],
   "source": [
    "preprocess = make_column_transformer(\n",
    "    (OneHotEncoder(handle_unknown='ignore'), category_check))\n",
    "model = make_pipeline(SimpleImputer(strategy='most_frequent'), preprocess, Lasso(max_iter=1000, tol=10000.008))\n",
    "model.fit(X_trainval_pipe, y_trainval_pipe)\n",
    "scores = cross_val_score(model, X_trainval_pipe, y_trainval_pipe, cv=5)\n",
    "print(\"score: {:.3f}\".format(np.mean(scores)))"
   ]
  },
  {
   "cell_type": "code",
   "execution_count": 24,
   "metadata": {
    "colab": {
     "base_uri": "https://localhost:8080/",
     "height": 34
    },
    "colab_type": "code",
    "id": "gyPqxjLLXLmx",
    "outputId": "f1cce2a9-c604-44f0-b2b3-44a87e3ac81a"
   },
   "outputs": [
    {
     "name": "stdout",
     "output_type": "stream",
     "text": [
      "score: 0.382\n"
     ]
    }
   ],
   "source": [
    "preprocess = make_column_transformer(\n",
    "    (StandardScaler(), ~category_check),\n",
    "    (OneHotEncoder(handle_unknown='ignore'), category_check))\n",
    "model = make_pipeline(SimpleImputer(strategy='most_frequent'), preprocess, Lasso(max_iter=5000, tol=1000.009))\n",
    "model.fit(X_trainval_pipe, y_trainval_pipe)\n",
    "scores = cross_val_score(model, X_trainval_pipe, y_trainval_pipe, cv=5)\n",
    "print(\"score: {:.3f}\".format(np.mean(scores)))"
   ]
  },
  {
   "cell_type": "markdown",
   "metadata": {
    "colab_type": "text",
    "id": "aluwTJY-XUhe"
   },
   "source": [
    "### ElasticNet"
   ]
  },
  {
   "cell_type": "code",
   "execution_count": 25,
   "metadata": {
    "colab": {
     "base_uri": "https://localhost:8080/",
     "height": 34
    },
    "colab_type": "code",
    "id": "CtYzjx_9XYeO",
    "outputId": "8356532b-d9d9-414a-e872-3546307e9a92"
   },
   "outputs": [
    {
     "name": "stdout",
     "output_type": "stream",
     "text": [
      "score: 0.031\n"
     ]
    }
   ],
   "source": [
    "preprocess = make_column_transformer(\n",
    "    (OneHotEncoder(handle_unknown='ignore'), category_check))\n",
    "model = make_pipeline(SimpleImputer(strategy='most_frequent'), preprocess, ElasticNet())\n",
    "model.fit(X_trainval_pipe, y_trainval_pipe)\n",
    "scores = cross_val_score(model, X_trainval_pipe, y_trainval_pipe, cv=5)\n",
    "print(\"score: {:.3f}\".format(np.mean(scores)))"
   ]
  },
  {
   "cell_type": "code",
   "execution_count": 26,
   "metadata": {
    "colab": {
     "base_uri": "https://localhost:8080/",
     "height": 34
    },
    "colab_type": "code",
    "id": "iaYy4S4gXgxy",
    "outputId": "d4b851a0-c387-4903-a0fa-7a13142c3e45"
   },
   "outputs": [
    {
     "name": "stdout",
     "output_type": "stream",
     "text": [
      "score: 0.391\n"
     ]
    }
   ],
   "source": [
    "preprocess = make_column_transformer(\n",
    "    (StandardScaler(), ~category_check),\n",
    "    (OneHotEncoder(handle_unknown='ignore'), category_check))\n",
    "model = make_pipeline(SimpleImputer(strategy='most_frequent'), preprocess, ElasticNet())\n",
    "model.fit(X_trainval_pipe, y_trainval_pipe)\n",
    "scores = cross_val_score(model, X_trainval_pipe, y_trainval_pipe, cv=5)\n",
    "print(\"score: {:.3f}\".format(np.mean(scores)))"
   ]
  },
  {
   "cell_type": "markdown",
   "metadata": {
    "colab_type": "text",
    "id": "zQ0kMPcQ4w0C"
   },
   "source": [
    "Among all the strategies, Ridge regression performed the best with scaling. There is no doubt that scaling improved performance for all the regression techniques."
   ]
  },
  {
   "cell_type": "markdown",
   "metadata": {
    "colab_type": "text",
    "id": "tMwPWioU2uf9"
   },
   "source": [
    "## 2.5\n",
    "Tune the parameters of the models using GridSearchCV. Do the results improve? Visualize\n",
    "the dependence of the validation score on the parameters for Ridge, Lasso and ElasticNet."
   ]
  },
  {
   "cell_type": "markdown",
   "metadata": {
    "colab_type": "text",
    "id": "xKmFnlYLEPCW"
   },
   "source": [
    "One Hot encode the training data"
   ]
  },
  {
   "cell_type": "code",
   "execution_count": 0,
   "metadata": {
    "colab": {},
    "colab_type": "code",
    "id": "uD3E7N7EEU_3"
   },
   "outputs": [],
   "source": [
    "for feature in features_df.iteritems():\n",
    "  if feature[0] in categorical_features:\n",
    "    features_df = pd.get_dummies(features_df)\n",
    "\n"
   ]
  },
  {
   "cell_type": "code",
   "execution_count": 28,
   "metadata": {
    "colab": {
     "base_uri": "https://localhost:8080/",
     "height": 280
    },
    "colab_type": "code",
    "id": "jaDpkEUKEOcx",
    "outputId": "69fb308d-d516-4b27-c1f1-861587cc07c2"
   },
   "outputs": [
    {
     "data": {
      "text/html": [
       "<div>\n",
       "<style scoped>\n",
       "    .dataframe tbody tr th:only-of-type {\n",
       "        vertical-align: middle;\n",
       "    }\n",
       "\n",
       "    .dataframe tbody tr th {\n",
       "        vertical-align: top;\n",
       "    }\n",
       "\n",
       "    .dataframe thead th {\n",
       "        text-align: right;\n",
       "    }\n",
       "</style>\n",
       "<table border=\"1\" class=\"dataframe\">\n",
       "  <thead>\n",
       "    <tr style=\"text-align: right;\">\n",
       "      <th></th>\n",
       "      <th>bedrooms</th>\n",
       "      <th>bathrooms</th>\n",
       "      <th>sqft_living</th>\n",
       "      <th>sqft_lot</th>\n",
       "      <th>floors</th>\n",
       "      <th>view</th>\n",
       "      <th>condition</th>\n",
       "      <th>sqft_above</th>\n",
       "      <th>sqft_basement</th>\n",
       "      <th>yr_built</th>\n",
       "      <th>yr_renovated</th>\n",
       "      <th>city_Algona</th>\n",
       "      <th>city_Auburn</th>\n",
       "      <th>city_Beaux Arts Village</th>\n",
       "      <th>city_Bellevue</th>\n",
       "      <th>city_Black Diamond</th>\n",
       "      <th>city_Bothell</th>\n",
       "      <th>city_Burien</th>\n",
       "      <th>city_Carnation</th>\n",
       "      <th>city_Clyde Hill</th>\n",
       "      <th>city_Covington</th>\n",
       "      <th>city_Des Moines</th>\n",
       "      <th>city_Duvall</th>\n",
       "      <th>city_Enumclaw</th>\n",
       "      <th>city_Fall City</th>\n",
       "      <th>city_Federal Way</th>\n",
       "      <th>city_Inglewood-Finn Hill</th>\n",
       "      <th>city_Issaquah</th>\n",
       "      <th>city_Kenmore</th>\n",
       "      <th>city_Kent</th>\n",
       "      <th>city_Kirkland</th>\n",
       "      <th>city_Lake Forest Park</th>\n",
       "      <th>city_Maple Valley</th>\n",
       "      <th>city_Medina</th>\n",
       "      <th>city_Mercer Island</th>\n",
       "      <th>city_Milton</th>\n",
       "      <th>city_Newcastle</th>\n",
       "      <th>city_Normandy Park</th>\n",
       "      <th>city_North Bend</th>\n",
       "      <th>city_Pacific</th>\n",
       "      <th>...</th>\n",
       "      <th>statezip_WA 98070</th>\n",
       "      <th>statezip_WA 98072</th>\n",
       "      <th>statezip_WA 98074</th>\n",
       "      <th>statezip_WA 98075</th>\n",
       "      <th>statezip_WA 98077</th>\n",
       "      <th>statezip_WA 98092</th>\n",
       "      <th>statezip_WA 98102</th>\n",
       "      <th>statezip_WA 98103</th>\n",
       "      <th>statezip_WA 98105</th>\n",
       "      <th>statezip_WA 98106</th>\n",
       "      <th>statezip_WA 98107</th>\n",
       "      <th>statezip_WA 98108</th>\n",
       "      <th>statezip_WA 98109</th>\n",
       "      <th>statezip_WA 98112</th>\n",
       "      <th>statezip_WA 98115</th>\n",
       "      <th>statezip_WA 98116</th>\n",
       "      <th>statezip_WA 98117</th>\n",
       "      <th>statezip_WA 98118</th>\n",
       "      <th>statezip_WA 98119</th>\n",
       "      <th>statezip_WA 98122</th>\n",
       "      <th>statezip_WA 98125</th>\n",
       "      <th>statezip_WA 98126</th>\n",
       "      <th>statezip_WA 98133</th>\n",
       "      <th>statezip_WA 98136</th>\n",
       "      <th>statezip_WA 98144</th>\n",
       "      <th>statezip_WA 98146</th>\n",
       "      <th>statezip_WA 98148</th>\n",
       "      <th>statezip_WA 98155</th>\n",
       "      <th>statezip_WA 98166</th>\n",
       "      <th>statezip_WA 98168</th>\n",
       "      <th>statezip_WA 98177</th>\n",
       "      <th>statezip_WA 98178</th>\n",
       "      <th>statezip_WA 98188</th>\n",
       "      <th>statezip_WA 98198</th>\n",
       "      <th>statezip_WA 98199</th>\n",
       "      <th>statezip_WA 98288</th>\n",
       "      <th>statezip_WA 98354</th>\n",
       "      <th>country_USA</th>\n",
       "      <th>waterfront_0</th>\n",
       "      <th>waterfront_1</th>\n",
       "    </tr>\n",
       "  </thead>\n",
       "  <tbody>\n",
       "    <tr>\n",
       "      <th>0</th>\n",
       "      <td>3.0</td>\n",
       "      <td>1.50</td>\n",
       "      <td>1340</td>\n",
       "      <td>7912</td>\n",
       "      <td>1.5</td>\n",
       "      <td>0</td>\n",
       "      <td>3</td>\n",
       "      <td>1340</td>\n",
       "      <td>0</td>\n",
       "      <td>1955</td>\n",
       "      <td>2005.0</td>\n",
       "      <td>0</td>\n",
       "      <td>0</td>\n",
       "      <td>0</td>\n",
       "      <td>0</td>\n",
       "      <td>0</td>\n",
       "      <td>0</td>\n",
       "      <td>0</td>\n",
       "      <td>0</td>\n",
       "      <td>0</td>\n",
       "      <td>0</td>\n",
       "      <td>0</td>\n",
       "      <td>0</td>\n",
       "      <td>0</td>\n",
       "      <td>0</td>\n",
       "      <td>0</td>\n",
       "      <td>0</td>\n",
       "      <td>0</td>\n",
       "      <td>0</td>\n",
       "      <td>0</td>\n",
       "      <td>0</td>\n",
       "      <td>0</td>\n",
       "      <td>0</td>\n",
       "      <td>0</td>\n",
       "      <td>0</td>\n",
       "      <td>0</td>\n",
       "      <td>0</td>\n",
       "      <td>0</td>\n",
       "      <td>0</td>\n",
       "      <td>0</td>\n",
       "      <td>...</td>\n",
       "      <td>0</td>\n",
       "      <td>0</td>\n",
       "      <td>0</td>\n",
       "      <td>0</td>\n",
       "      <td>0</td>\n",
       "      <td>0</td>\n",
       "      <td>0</td>\n",
       "      <td>0</td>\n",
       "      <td>0</td>\n",
       "      <td>0</td>\n",
       "      <td>0</td>\n",
       "      <td>0</td>\n",
       "      <td>0</td>\n",
       "      <td>0</td>\n",
       "      <td>0</td>\n",
       "      <td>0</td>\n",
       "      <td>0</td>\n",
       "      <td>0</td>\n",
       "      <td>0</td>\n",
       "      <td>0</td>\n",
       "      <td>0</td>\n",
       "      <td>0</td>\n",
       "      <td>1</td>\n",
       "      <td>0</td>\n",
       "      <td>0</td>\n",
       "      <td>0</td>\n",
       "      <td>0</td>\n",
       "      <td>0</td>\n",
       "      <td>0</td>\n",
       "      <td>0</td>\n",
       "      <td>0</td>\n",
       "      <td>0</td>\n",
       "      <td>0</td>\n",
       "      <td>0</td>\n",
       "      <td>0</td>\n",
       "      <td>0</td>\n",
       "      <td>0</td>\n",
       "      <td>1</td>\n",
       "      <td>1</td>\n",
       "      <td>0</td>\n",
       "    </tr>\n",
       "    <tr>\n",
       "      <th>1</th>\n",
       "      <td>5.0</td>\n",
       "      <td>2.50</td>\n",
       "      <td>3650</td>\n",
       "      <td>9050</td>\n",
       "      <td>2.0</td>\n",
       "      <td>4</td>\n",
       "      <td>5</td>\n",
       "      <td>3370</td>\n",
       "      <td>280</td>\n",
       "      <td>1921</td>\n",
       "      <td>NaN</td>\n",
       "      <td>0</td>\n",
       "      <td>0</td>\n",
       "      <td>0</td>\n",
       "      <td>0</td>\n",
       "      <td>0</td>\n",
       "      <td>0</td>\n",
       "      <td>0</td>\n",
       "      <td>0</td>\n",
       "      <td>0</td>\n",
       "      <td>0</td>\n",
       "      <td>0</td>\n",
       "      <td>0</td>\n",
       "      <td>0</td>\n",
       "      <td>0</td>\n",
       "      <td>0</td>\n",
       "      <td>0</td>\n",
       "      <td>0</td>\n",
       "      <td>0</td>\n",
       "      <td>0</td>\n",
       "      <td>0</td>\n",
       "      <td>0</td>\n",
       "      <td>0</td>\n",
       "      <td>0</td>\n",
       "      <td>0</td>\n",
       "      <td>0</td>\n",
       "      <td>0</td>\n",
       "      <td>0</td>\n",
       "      <td>0</td>\n",
       "      <td>0</td>\n",
       "      <td>...</td>\n",
       "      <td>0</td>\n",
       "      <td>0</td>\n",
       "      <td>0</td>\n",
       "      <td>0</td>\n",
       "      <td>0</td>\n",
       "      <td>0</td>\n",
       "      <td>0</td>\n",
       "      <td>0</td>\n",
       "      <td>0</td>\n",
       "      <td>0</td>\n",
       "      <td>0</td>\n",
       "      <td>0</td>\n",
       "      <td>0</td>\n",
       "      <td>0</td>\n",
       "      <td>0</td>\n",
       "      <td>0</td>\n",
       "      <td>0</td>\n",
       "      <td>0</td>\n",
       "      <td>1</td>\n",
       "      <td>0</td>\n",
       "      <td>0</td>\n",
       "      <td>0</td>\n",
       "      <td>0</td>\n",
       "      <td>0</td>\n",
       "      <td>0</td>\n",
       "      <td>0</td>\n",
       "      <td>0</td>\n",
       "      <td>0</td>\n",
       "      <td>0</td>\n",
       "      <td>0</td>\n",
       "      <td>0</td>\n",
       "      <td>0</td>\n",
       "      <td>0</td>\n",
       "      <td>0</td>\n",
       "      <td>0</td>\n",
       "      <td>0</td>\n",
       "      <td>0</td>\n",
       "      <td>1</td>\n",
       "      <td>1</td>\n",
       "      <td>0</td>\n",
       "    </tr>\n",
       "    <tr>\n",
       "      <th>2</th>\n",
       "      <td>3.0</td>\n",
       "      <td>2.00</td>\n",
       "      <td>1930</td>\n",
       "      <td>11947</td>\n",
       "      <td>1.0</td>\n",
       "      <td>0</td>\n",
       "      <td>4</td>\n",
       "      <td>1930</td>\n",
       "      <td>0</td>\n",
       "      <td>1966</td>\n",
       "      <td>NaN</td>\n",
       "      <td>0</td>\n",
       "      <td>0</td>\n",
       "      <td>0</td>\n",
       "      <td>0</td>\n",
       "      <td>0</td>\n",
       "      <td>0</td>\n",
       "      <td>0</td>\n",
       "      <td>0</td>\n",
       "      <td>0</td>\n",
       "      <td>0</td>\n",
       "      <td>0</td>\n",
       "      <td>0</td>\n",
       "      <td>0</td>\n",
       "      <td>0</td>\n",
       "      <td>0</td>\n",
       "      <td>0</td>\n",
       "      <td>0</td>\n",
       "      <td>0</td>\n",
       "      <td>1</td>\n",
       "      <td>0</td>\n",
       "      <td>0</td>\n",
       "      <td>0</td>\n",
       "      <td>0</td>\n",
       "      <td>0</td>\n",
       "      <td>0</td>\n",
       "      <td>0</td>\n",
       "      <td>0</td>\n",
       "      <td>0</td>\n",
       "      <td>0</td>\n",
       "      <td>...</td>\n",
       "      <td>0</td>\n",
       "      <td>0</td>\n",
       "      <td>0</td>\n",
       "      <td>0</td>\n",
       "      <td>0</td>\n",
       "      <td>0</td>\n",
       "      <td>0</td>\n",
       "      <td>0</td>\n",
       "      <td>0</td>\n",
       "      <td>0</td>\n",
       "      <td>0</td>\n",
       "      <td>0</td>\n",
       "      <td>0</td>\n",
       "      <td>0</td>\n",
       "      <td>0</td>\n",
       "      <td>0</td>\n",
       "      <td>0</td>\n",
       "      <td>0</td>\n",
       "      <td>0</td>\n",
       "      <td>0</td>\n",
       "      <td>0</td>\n",
       "      <td>0</td>\n",
       "      <td>0</td>\n",
       "      <td>0</td>\n",
       "      <td>0</td>\n",
       "      <td>0</td>\n",
       "      <td>0</td>\n",
       "      <td>0</td>\n",
       "      <td>0</td>\n",
       "      <td>0</td>\n",
       "      <td>0</td>\n",
       "      <td>0</td>\n",
       "      <td>0</td>\n",
       "      <td>0</td>\n",
       "      <td>0</td>\n",
       "      <td>0</td>\n",
       "      <td>0</td>\n",
       "      <td>1</td>\n",
       "      <td>1</td>\n",
       "      <td>0</td>\n",
       "    </tr>\n",
       "    <tr>\n",
       "      <th>3</th>\n",
       "      <td>3.0</td>\n",
       "      <td>2.25</td>\n",
       "      <td>2000</td>\n",
       "      <td>8030</td>\n",
       "      <td>1.0</td>\n",
       "      <td>0</td>\n",
       "      <td>4</td>\n",
       "      <td>1000</td>\n",
       "      <td>1000</td>\n",
       "      <td>1963</td>\n",
       "      <td>NaN</td>\n",
       "      <td>0</td>\n",
       "      <td>0</td>\n",
       "      <td>0</td>\n",
       "      <td>1</td>\n",
       "      <td>0</td>\n",
       "      <td>0</td>\n",
       "      <td>0</td>\n",
       "      <td>0</td>\n",
       "      <td>0</td>\n",
       "      <td>0</td>\n",
       "      <td>0</td>\n",
       "      <td>0</td>\n",
       "      <td>0</td>\n",
       "      <td>0</td>\n",
       "      <td>0</td>\n",
       "      <td>0</td>\n",
       "      <td>0</td>\n",
       "      <td>0</td>\n",
       "      <td>0</td>\n",
       "      <td>0</td>\n",
       "      <td>0</td>\n",
       "      <td>0</td>\n",
       "      <td>0</td>\n",
       "      <td>0</td>\n",
       "      <td>0</td>\n",
       "      <td>0</td>\n",
       "      <td>0</td>\n",
       "      <td>0</td>\n",
       "      <td>0</td>\n",
       "      <td>...</td>\n",
       "      <td>0</td>\n",
       "      <td>0</td>\n",
       "      <td>0</td>\n",
       "      <td>0</td>\n",
       "      <td>0</td>\n",
       "      <td>0</td>\n",
       "      <td>0</td>\n",
       "      <td>0</td>\n",
       "      <td>0</td>\n",
       "      <td>0</td>\n",
       "      <td>0</td>\n",
       "      <td>0</td>\n",
       "      <td>0</td>\n",
       "      <td>0</td>\n",
       "      <td>0</td>\n",
       "      <td>0</td>\n",
       "      <td>0</td>\n",
       "      <td>0</td>\n",
       "      <td>0</td>\n",
       "      <td>0</td>\n",
       "      <td>0</td>\n",
       "      <td>0</td>\n",
       "      <td>0</td>\n",
       "      <td>0</td>\n",
       "      <td>0</td>\n",
       "      <td>0</td>\n",
       "      <td>0</td>\n",
       "      <td>0</td>\n",
       "      <td>0</td>\n",
       "      <td>0</td>\n",
       "      <td>0</td>\n",
       "      <td>0</td>\n",
       "      <td>0</td>\n",
       "      <td>0</td>\n",
       "      <td>0</td>\n",
       "      <td>0</td>\n",
       "      <td>0</td>\n",
       "      <td>1</td>\n",
       "      <td>1</td>\n",
       "      <td>0</td>\n",
       "    </tr>\n",
       "    <tr>\n",
       "      <th>4</th>\n",
       "      <td>4.0</td>\n",
       "      <td>2.50</td>\n",
       "      <td>1940</td>\n",
       "      <td>10500</td>\n",
       "      <td>1.0</td>\n",
       "      <td>0</td>\n",
       "      <td>4</td>\n",
       "      <td>1140</td>\n",
       "      <td>800</td>\n",
       "      <td>1976</td>\n",
       "      <td>1992.0</td>\n",
       "      <td>0</td>\n",
       "      <td>0</td>\n",
       "      <td>0</td>\n",
       "      <td>0</td>\n",
       "      <td>0</td>\n",
       "      <td>0</td>\n",
       "      <td>0</td>\n",
       "      <td>0</td>\n",
       "      <td>0</td>\n",
       "      <td>0</td>\n",
       "      <td>0</td>\n",
       "      <td>0</td>\n",
       "      <td>0</td>\n",
       "      <td>0</td>\n",
       "      <td>0</td>\n",
       "      <td>0</td>\n",
       "      <td>0</td>\n",
       "      <td>0</td>\n",
       "      <td>0</td>\n",
       "      <td>0</td>\n",
       "      <td>0</td>\n",
       "      <td>0</td>\n",
       "      <td>0</td>\n",
       "      <td>0</td>\n",
       "      <td>0</td>\n",
       "      <td>0</td>\n",
       "      <td>0</td>\n",
       "      <td>0</td>\n",
       "      <td>0</td>\n",
       "      <td>...</td>\n",
       "      <td>0</td>\n",
       "      <td>0</td>\n",
       "      <td>0</td>\n",
       "      <td>0</td>\n",
       "      <td>0</td>\n",
       "      <td>0</td>\n",
       "      <td>0</td>\n",
       "      <td>0</td>\n",
       "      <td>0</td>\n",
       "      <td>0</td>\n",
       "      <td>0</td>\n",
       "      <td>0</td>\n",
       "      <td>0</td>\n",
       "      <td>0</td>\n",
       "      <td>0</td>\n",
       "      <td>0</td>\n",
       "      <td>0</td>\n",
       "      <td>0</td>\n",
       "      <td>0</td>\n",
       "      <td>0</td>\n",
       "      <td>0</td>\n",
       "      <td>0</td>\n",
       "      <td>0</td>\n",
       "      <td>0</td>\n",
       "      <td>0</td>\n",
       "      <td>0</td>\n",
       "      <td>0</td>\n",
       "      <td>0</td>\n",
       "      <td>0</td>\n",
       "      <td>0</td>\n",
       "      <td>0</td>\n",
       "      <td>0</td>\n",
       "      <td>0</td>\n",
       "      <td>0</td>\n",
       "      <td>0</td>\n",
       "      <td>0</td>\n",
       "      <td>0</td>\n",
       "      <td>1</td>\n",
       "      <td>1</td>\n",
       "      <td>0</td>\n",
       "    </tr>\n",
       "  </tbody>\n",
       "</table>\n",
       "<p>5 rows × 135 columns</p>\n",
       "</div>"
      ],
      "text/plain": [
       "   bedrooms  bathrooms  sqft_living  ...  country_USA  waterfront_0  waterfront_1\n",
       "0       3.0       1.50         1340  ...            1             1             0\n",
       "1       5.0       2.50         3650  ...            1             1             0\n",
       "2       3.0       2.00         1930  ...            1             1             0\n",
       "3       3.0       2.25         2000  ...            1             1             0\n",
       "4       4.0       2.50         1940  ...            1             1             0\n",
       "\n",
       "[5 rows x 135 columns]"
      ]
     },
     "execution_count": 28,
     "metadata": {
      "tags": []
     },
     "output_type": "execute_result"
    }
   ],
   "source": [
    "features_df.head(5)"
   ]
  },
  {
   "cell_type": "markdown",
   "metadata": {
    "colab_type": "text",
    "id": "uoeBr8DKHaGx"
   },
   "source": [
    "Creating a different split"
   ]
  },
  {
   "cell_type": "code",
   "execution_count": 0,
   "metadata": {
    "colab": {},
    "colab_type": "code",
    "id": "IEFbYkA2HdAb"
   },
   "outputs": [],
   "source": [
    "X_trainval, X_test, y_trainval, y_test = train_test_split(features_df, price_df, test_size=0.3)"
   ]
  },
  {
   "cell_type": "markdown",
   "metadata": {
    "colab_type": "text",
    "id": "YMGVc7feI6xs"
   },
   "source": [
    "#### Using GridSearchCV on Ridge"
   ]
  },
  {
   "cell_type": "code",
   "execution_count": 118,
   "metadata": {
    "colab": {
     "base_uri": "https://localhost:8080/",
     "height": 87
    },
    "colab_type": "code",
    "id": "XvQb8PKvCxSD",
    "outputId": "333a335a-b74d-4ebb-cdbc-0604edaa13b0"
   },
   "outputs": [
    {
     "name": "stderr",
     "output_type": "stream",
     "text": [
      "/usr/local/lib/python3.6/dist-packages/sklearn/linear_model/_ridge.py:148: LinAlgWarning: Ill-conditioned matrix (rcond=1.08335e-16): result may not be accurate.\n",
      "  overwrite_a=True).T\n"
     ]
    },
    {
     "name": "stdout",
     "output_type": "stream",
     "text": [
      "best mean cross-validation score: 0.503\n",
      "best parameters: {'ridge__alpha': 10.0}\n"
     ]
    }
   ],
   "source": [
    "lr_pipe = make_pipeline(SimpleImputer(strategy='most_frequent'), Ridge())\n",
    "param_grid = {\"ridge__alpha\" : np.logspace(-3, 3, 13)}\n",
    "grid_lr = GridSearchCV(lr_pipe, param_grid, cv=5, return_train_score=True)\n",
    "grid_lr.fit(X_trainval, y_trainval)\n",
    "print(\"best mean cross-validation score: {:.3f}\".format(grid_lr.best_score_))\n",
    "print(\"best parameters: {}\".format(grid_lr.best_params_))\n"
   ]
  },
  {
   "cell_type": "markdown",
   "metadata": {
    "colab_type": "text",
    "id": "wha3DT7LIP6L"
   },
   "source": [
    "Using the best parameter back to the earlier Ridge model"
   ]
  },
  {
   "cell_type": "code",
   "execution_count": 119,
   "metadata": {
    "colab": {
     "base_uri": "https://localhost:8080/",
     "height": 34
    },
    "colab_type": "code",
    "id": "Hx9LYl6GIutB",
    "outputId": "cd8ed4f5-b874-46a8-e064-3348898e5d50"
   },
   "outputs": [
    {
     "name": "stdout",
     "output_type": "stream",
     "text": [
      "score: 0.503\n"
     ]
    }
   ],
   "source": [
    "model_ridge = make_pipeline(SimpleImputer(strategy='most_frequent'), Ridge(alpha=10.0))\n",
    "model_ridge.fit(X_trainval, y_trainval)\n",
    "scores = cross_val_score(model_ridge, X_trainval, y_trainval, cv=5)\n",
    "print(\"score: {:.3f}\".format(np.mean(scores)))"
   ]
  },
  {
   "cell_type": "markdown",
   "metadata": {
    "colab_type": "text",
    "id": "mjdgzUGkJAd2"
   },
   "source": [
    "#### Using GridSearchCV for Lasso\n"
   ]
  },
  {
   "cell_type": "code",
   "execution_count": 120,
   "metadata": {
    "colab": {
     "base_uri": "https://localhost:8080/",
     "height": 52
    },
    "colab_type": "code",
    "id": "pQB44t90L2JF",
    "outputId": "1a581aa0-40f2-4934-b6d8-39d0eb0b8dca"
   },
   "outputs": [
    {
     "name": "stdout",
     "output_type": "stream",
     "text": [
      "best mean cross-validation score: 0.493\n",
      "best parameters: {'lasso__alpha': 310}\n"
     ]
    }
   ],
   "source": [
    "with warnings.catch_warnings(record=True) as w:\n",
    "  l_pipe = make_pipeline(SimpleImputer(strategy='mean'), Lasso())\n",
    "  param_grid = {\"lasso__alpha\" : range(10, 2000, 50)}\n",
    "  grid_l = GridSearchCV(l_pipe, param_grid, cv=5, return_train_score=True)\n",
    "  grid_l.fit(X_trainval, y_trainval)\n",
    "  print(\"best mean cross-validation score: {:.3f}\".format(grid_l.best_score_))\n",
    "  print(\"best parameters: {}\".format(grid_l.best_params_))"
   ]
  },
  {
   "cell_type": "code",
   "execution_count": 121,
   "metadata": {
    "colab": {
     "base_uri": "https://localhost:8080/",
     "height": 34
    },
    "colab_type": "code",
    "id": "ytoXp1mPUesF",
    "outputId": "e93a2465-d31b-4451-8da6-aff1de1d3133"
   },
   "outputs": [
    {
     "name": "stdout",
     "output_type": "stream",
     "text": [
      "score: 0.491\n"
     ]
    }
   ],
   "source": [
    "model_lasso = make_pipeline(SimpleImputer(strategy='most_frequent'), preprocess, Lasso(alpha=310))\n",
    "model_lasso.fit(X_trainval_pipe, y_trainval_pipe)\n",
    "scores = cross_val_score(model_lasso, X_trainval_pipe, y_trainval_pipe, cv=5)\n",
    "print(\"score: {:.3f}\".format(np.mean(scores)))"
   ]
  },
  {
   "cell_type": "markdown",
   "metadata": {
    "colab_type": "text",
    "id": "Cmz81QaEVAx-"
   },
   "source": [
    "#### Elastic Net\n"
   ]
  },
  {
   "cell_type": "code",
   "execution_count": 122,
   "metadata": {
    "colab": {
     "base_uri": "https://localhost:8080/",
     "height": 52
    },
    "colab_type": "code",
    "id": "8Sw5blwyVD4c",
    "outputId": "a645773e-761e-46ed-b0c7-fb6ef6ac361a"
   },
   "outputs": [
    {
     "name": "stdout",
     "output_type": "stream",
     "text": [
      "best mean cross-validation score: 0.503\n",
      "best parameters: {'elasticnet__alpha': 0.01, 'elasticnet__l1_ratio': 0.5}\n"
     ]
    }
   ],
   "source": [
    "with warnings.catch_warnings(record=True) as w:\n",
    "  en_pipe = make_pipeline(SimpleImputer(strategy='mean'), ElasticNet())\n",
    "  param_grid = {'elasticnet__alpha': np.logspace(-4, -1, 10),\n",
    "                'elasticnet__l1_ratio': [0.01, .1, .5, .8, .9, .95, .98, 1]}\n",
    "  grid_en = GridSearchCV(en_pipe, param_grid, cv=5, return_train_score=True)\n",
    "  grid_en.fit(X_trainval, y_trainval)\n",
    "  print(\"best mean cross-validation score: {:.3f}\".format(grid_en.best_score_))\n",
    "  print(\"best parameters: {}\".format(grid_en.best_params_))"
   ]
  },
  {
   "cell_type": "code",
   "execution_count": 123,
   "metadata": {
    "colab": {
     "base_uri": "https://localhost:8080/",
     "height": 34
    },
    "colab_type": "code",
    "id": "pkG7blcfW_mz",
    "outputId": "78a69018-086f-4da7-8cf8-3a037ef5eca2"
   },
   "outputs": [
    {
     "name": "stdout",
     "output_type": "stream",
     "text": [
      "score: 0.495\n"
     ]
    }
   ],
   "source": [
    "with warnings.catch_warnings(record=True) as w:\n",
    "  model_en = make_pipeline(SimpleImputer(strategy='most_frequent'), preprocess, ElasticNet(alpha=0.021544346900318822, l1_ratio=0.95))\n",
    "  model_en.fit(X_trainval_pipe, y_trainval_pipe)\n",
    "  scores = cross_val_score(model_en, X_trainval_pipe, y_trainval_pipe, cv=5)\n",
    "  print(\"score: {:.3f}\".format(np.mean(scores)))"
   ]
  },
  {
   "cell_type": "code",
   "execution_count": 124,
   "metadata": {
    "colab": {
     "base_uri": "https://localhost:8080/",
     "height": 34
    },
    "colab_type": "code",
    "id": "sOAQZj29e7HU",
    "outputId": "f35210f9-72b2-4f94-cc0f-ca14ccf74b18"
   },
   "outputs": [
    {
     "name": "stdout",
     "output_type": "stream",
     "text": [
      "test-set score: 0.701\n"
     ]
    }
   ],
   "source": [
    "print(\"test-set score: {:.3f}\".format(grid_l.score(X_test, y_test)))"
   ]
  },
  {
   "cell_type": "markdown",
   "metadata": {
    "colab_type": "text",
    "id": "GRfwnCpOWBgw"
   },
   "source": [
    "**Scores for all three models improve after tuning.**"
   ]
  },
  {
   "cell_type": "markdown",
   "metadata": {
    "colab_type": "text",
    "id": "9DX8O2x-YvnA"
   },
   "source": [
    "#### Visualizing the results"
   ]
  },
  {
   "cell_type": "code",
   "execution_count": 125,
   "metadata": {
    "colab": {
     "base_uri": "https://localhost:8080/",
     "height": 624
    },
    "colab_type": "code",
    "id": "KqSvKaEQZ7YR",
    "outputId": "c0b04925-86ec-492b-9bf2-1ff967952f7d"
   },
   "outputs": [
    {
     "data": {
      "image/png": "[encoded data removed]",
      "text/plain": [
       "<Figure size 1080x720 with 1 Axes>"
      ]
     },
     "metadata": {
      "tags": []
     },
     "output_type": "display_data"
    }
   ],
   "source": [
    "lr_alphavalues = np.logspace(-3, 3, 13)\n",
    "lr_mean_test_scores = np.asarray(grid_lr.cv_results_['mean_test_score'])\n",
    "lr_mean_train_scores = np.asarray(grid_lr.cv_results_['mean_train_score'])\n",
    "std_test = np.asarray(grid_lr.cv_results_['std_test_score'])\n",
    "std_train = np.asarray(grid_lr.cv_results_['std_train_score'])\n",
    "\n",
    "fig, ax = plt.subplots(figsize=(15,10))\n",
    "\n",
    "ax.plot(lr_alphavalues, lr_mean_test_scores, label='mean_test_score')\n",
    "ax.plot(lr_alphavalues, lr_mean_train_scores, label='mean_train_score')\n",
    "ax.set_xscale(\"log\")\n",
    "ax.fill_between(lr_alphavalues, lr_mean_test_scores + std_test, lr_mean_test_scores - std_test, alpha=0.2)\n",
    "ax.fill_between(lr_alphavalues, lr_mean_train_scores+std_train, lr_mean_train_scores-std_train, alpha=0.2)\n",
    "\n",
    "ax.set(xlabel='alpha', ylabel='mean_test_scores',\n",
    "       title='Ridge mean test scores for variable alpha')\n",
    "ax.legend(loc='upper left')\n",
    "\n",
    "plt.show()"
   ]
  },
  {
   "cell_type": "code",
   "execution_count": 126,
   "metadata": {
    "colab": {
     "base_uri": "https://localhost:8080/",
     "height": 624
    },
    "colab_type": "code",
    "id": "78aLBUGiacTe",
    "outputId": "82b16bf6-f477-46ec-eaba-1e1ac40d7cc3"
   },
   "outputs": [
    {
     "data": {
      "image/png": "[encoded data removed]",
      "text/plain": [
       "<Figure size 1080x720 with 1 Axes>"
      ]
     },
     "metadata": {
      "tags": []
     },
     "output_type": "display_data"
    }
   ],
   "source": [
    "l_alphavalues = range(10, 2000, 50)\n",
    "l_mean_test_scores = np.asarray(grid_l.cv_results_['mean_test_score'])\n",
    "l_mean_train_scores = np.asarray(grid_l.cv_results_['mean_train_score'])\n",
    "std_test = np.asarray(grid_l.cv_results_['std_test_score'])\n",
    "std_train = np.asarray(grid_l.cv_results_['std_train_score'])\n",
    "\n",
    "fig, ax = plt.subplots(figsize=(15,10))\n",
    "\n",
    "ax.plot(l_alphavalues, l_mean_test_scores, label='mean_test_score')\n",
    "ax.plot(l_alphavalues, l_mean_train_scores, label='mean_train_score')\n",
    "ax.set_xscale(\"log\")\n",
    "ax.fill_between(l_alphavalues, l_mean_test_scores + std_test, l_mean_test_scores - std_test, alpha=0.2)\n",
    "ax.fill_between(l_alphavalues, l_mean_train_scores+std_train, l_mean_train_scores-std_train, alpha=0.2)\n",
    "\n",
    "ax.set(xlabel='alpha', ylabel='mean_test_scores',\n",
    "       title='Lasso mean test scores for variable C')\n",
    "ax.legend(loc='upper left')\n",
    "\n",
    "plt.show()"
   ]
  },
  {
   "cell_type": "code",
   "execution_count": 127,
   "metadata": {
    "colab": {
     "base_uri": "https://localhost:8080/",
     "height": 280
    },
    "colab_type": "code",
    "id": "9RDiNs8ZmTAs",
    "outputId": "98e9b29a-b401-4094-ae45-3e2952965b58"
   },
   "outputs": [
    {
     "data": {
      "image/png": "[encoded data removed]",
      "text/plain": [
       "<Figure size 432x288 with 2 Axes>"
      ]
     },
     "metadata": {
      "tags": []
     },
     "output_type": "display_data"
    }
   ],
   "source": [
    "res = pd.pivot_table(pd.DataFrame(grid_en.cv_results_),\n",
    "    values='mean_test_score', index='param_elasticnet__alpha', columns='param_elasticnet__l1_ratio')\n",
    "sns.heatmap(res, annot=True)\n",
    "plt.show()"
   ]
  },
  {
   "cell_type": "markdown",
   "metadata": {
    "colab_type": "text",
    "id": "d7f0NyeXCtX-"
   },
   "source": [
    "## 2.6\n",
    "Visualizing the most important coefficients from the above models"
   ]
  },
  {
   "cell_type": "markdown",
   "metadata": {
    "colab_type": "text",
    "id": "sZavwsnoTNde"
   },
   "source": [
    "#### Starting with Ridge regression"
   ]
  },
  {
   "cell_type": "code",
   "execution_count": 0,
   "metadata": {
    "colab": {},
    "colab_type": "code",
    "id": "IGGkMZURRI4e"
   },
   "outputs": [],
   "source": [
    "categorical_fe = housing_data[categorical_features]\n",
    "enc = OneHotEncoder()\n",
    "enc.fit_transform(categorical_fe)\n",
    "encoded_categories = list(enc.get_feature_names(categorical_features))\n",
    "all_features = continuous_features + encoded_categories"
   ]
  },
  {
   "cell_type": "code",
   "execution_count": 0,
   "metadata": {
    "colab": {},
    "colab_type": "code",
    "id": "08BsUgnpDCgv"
   },
   "outputs": [],
   "source": [
    "coeffs = model_ridge.steps[1][1].coef_"
   ]
  },
  {
   "cell_type": "code",
   "execution_count": 0,
   "metadata": {
    "colab": {},
    "colab_type": "code",
    "id": "D2Ns3uf3QMH_"
   },
   "outputs": [],
   "source": [
    "coeff_tuples = []\n",
    "for index, coeff in enumerate(coeffs):\n",
    "  coeff_tuples.append((index, coeff))\n",
    "sorted_tuples = sorted(coeff_tuples, key = lambda x: x[1])"
   ]
  },
  {
   "cell_type": "code",
   "execution_count": 0,
   "metadata": {
    "colab": {},
    "colab_type": "code",
    "id": "N6pOrXaSQVQa"
   },
   "outputs": [],
   "source": [
    "best_coeff = sorted_tuples[-20:]\n",
    "indices = [ tup[0] for tup in best_coeff ]\n",
    "coeffs = [tup[1] for tup in best_coeff]\n",
    "# map indices to column names\n",
    "feature_names = []\n",
    "for index in indices:\n",
    "  feature_names.append(all_features[index])"
   ]
  },
  {
   "cell_type": "code",
   "execution_count": 132,
   "metadata": {
    "colab": {
     "base_uri": "https://localhost:8080/",
     "height": 518
    },
    "colab_type": "code",
    "id": "EejE5EY0QYpU",
    "outputId": "f59acbf9-8d9e-4de1-fc28-0218d1609615"
   },
   "outputs": [
    {
     "data": {
      "image/png": "[encoded data removed]",
      "text/plain": [
       "<Figure size 1440x1080 with 1 Axes>"
      ]
     },
     "metadata": {
      "tags": []
     },
     "output_type": "display_data"
    }
   ],
   "source": [
    "coefficient_names = [tup[1] for tup in best_coeff]\n",
    "\n",
    "plt.figure(figsize=(20,15))\n",
    "ax11 = plt.subplot(2, 2, 1)\n",
    "ax11.set_xlabel('Feature names')\n",
    "ax11.set_ylabel('coefficient')\n",
    "ax11.scatter(feature_names, coefficient_names, c=np.sign(coefficient_names), cmap='bwr_r')\n",
    "plt.xticks(rotation=90)\n",
    "plt.show()"
   ]
  },
  {
   "cell_type": "markdown",
   "metadata": {
    "colab_type": "text",
    "id": "HDO8fyKyRWr7"
   },
   "source": [
    "### Visualization for Lasso"
   ]
  },
  {
   "cell_type": "code",
   "execution_count": 133,
   "metadata": {
    "colab": {
     "base_uri": "https://localhost:8080/",
     "height": 518
    },
    "colab_type": "code",
    "id": "SUIqqsIjRMlu",
    "outputId": "8482379f-0b5f-46ca-ed15-f2bbb6934c6c"
   },
   "outputs": [
    {
     "data": {
      "image/png": "[encoded data removed]",
      "text/plain": [
       "<Figure size 1440x1080 with 1 Axes>"
      ]
     },
     "metadata": {
      "tags": []
     },
     "output_type": "display_data"
    }
   ],
   "source": [
    "coeff_l = model_lasso.steps[2][1].coef_\n",
    "coeff_tuples = []\n",
    "for index, coeff in enumerate(coeff_l):\n",
    "  coeff_tuples.append((index, coeff))\n",
    "sorted_tuples = sorted(coeff_tuples, key = lambda x: x[1])\n",
    "\n",
    "best_coeff = sorted_tuples[-20:]\n",
    "indices = [ tup[0] for tup in best_coeff ]\n",
    "coeffs = [tup[1] for tup in best_coeff]\n",
    "# map indices to column names\n",
    "feature_names = []\n",
    "for index in indices:\n",
    "  feature_names.append(all_features[index])\n",
    "\n",
    "coefficient_names = [tup[1] for tup in best_coeff]\n",
    "\n",
    "plt.figure(figsize=(20,15))\n",
    "ax11 = plt.subplot(2, 2, 1)\n",
    "ax11.set_xlabel('Feature names')\n",
    "ax11.set_ylabel('coefficient')\n",
    "ax11.scatter(feature_names, coefficient_names, c=np.sign(coefficient_names), cmap='bwr_r')\n",
    "plt.xticks(rotation=90)\n",
    "plt.show()"
   ]
  },
  {
   "cell_type": "markdown",
   "metadata": {
    "colab_type": "text",
    "id": "w7WZQk2-SsdJ"
   },
   "source": [
    "### Visualization for Elastic Net"
   ]
  },
  {
   "cell_type": "code",
   "execution_count": 0,
   "metadata": {
    "colab": {},
    "colab_type": "code",
    "id": "0QKanOK7S2KU"
   },
   "outputs": [],
   "source": [
    "coeff_en = model_en.steps[2][1].coef_"
   ]
  },
  {
   "cell_type": "code",
   "execution_count": 135,
   "metadata": {
    "colab": {
     "base_uri": "https://localhost:8080/",
     "height": 518
    },
    "colab_type": "code",
    "id": "evj5MrsxSwKG",
    "outputId": "b1b2b67a-07cb-45f0-8569-87f94a6821a7"
   },
   "outputs": [
    {
     "data": {
      "image/png": "[encoded data removed]",
      "text/plain": [
       "<Figure size 1440x1080 with 1 Axes>"
      ]
     },
     "metadata": {
      "tags": []
     },
     "output_type": "display_data"
    }
   ],
   "source": [
    "coeff_tuples = []\n",
    "for index, coeff in enumerate(coeff_en):\n",
    "  coeff_tuples.append((index, coeff))\n",
    "sorted_tuples = sorted(coeff_tuples, key = lambda x: x[1])\n",
    "\n",
    "best_coeff = sorted_tuples[-20:]\n",
    "indices = [ tup[0] for tup in best_coeff ]\n",
    "coeffs = [tup[1] for tup in best_coeff]\n",
    "# map indices to column names\n",
    "feature_names = []\n",
    "for index in indices:\n",
    "  feature_names.append(all_features[index])\n",
    "\n",
    "coefficient_names = [tup[1] for tup in best_coeff]\n",
    "\n",
    "plt.figure(figsize=(20,15))\n",
    "ax11 = plt.subplot(2, 2, 1)\n",
    "ax11.set_xlabel('Feature names')\n",
    "ax11.set_ylabel('coefficient')\n",
    "ax11.scatter(feature_names, coefficient_names, c=np.sign(coefficient_names), cmap='bwr_r')\n",
    "plt.xticks(rotation=90)\n",
    "plt.show()"
   ]
  },
  {
   "cell_type": "markdown",
   "metadata": {
    "colab_type": "text",
    "id": "M9XbVZn0TXHv"
   },
   "source": [
    "Ridge and Elastic Net agree on the highest coeffiecient. In general coeffcient values were highest for zip codes. Medina, Bellevue, Seattle and Kirkland appeared on all the three graphs. According to Ridge and Elsatic Net, having a waterfront was important, but not so for Lasso. Features related to sqft were also highlighted as important."
   ]
  }
 ],
 "metadata": {
  "accelerator": "GPU",
  "colab": {
   "collapsed_sections": [],
   "name": "bg2625_AMLHW2Task2.ipynb",
   "provenance": []
  },
  "kernelspec": {
   "display_name": "Python 3",
   "language": "python",
   "name": "python3"
  },
  "language_info": {
   "codemirror_mode": {
    "name": "ipython",
    "version": 3
   },
   "file_extension": ".py",
   "mimetype": "text/x-python",
   "name": "python",
   "nbconvert_exporter": "python",
   "pygments_lexer": "ipython3",
   "version": "3.7.4"
  }
 },
 "nbformat": 4,
 "nbformat_minor": 1
}
